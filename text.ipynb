{
 "cells": [
  {
   "cell_type": "code",
   "execution_count": 4,
   "metadata": {},
   "outputs": [
    {
     "name": "stderr",
     "output_type": "stream",
     "text": [
      "[nltk_data] Downloading package wordnet to C:\\Users\\Prayag\n",
      "[nltk_data]     Chawla\\AppData\\Roaming\\nltk_data...\n",
      "[nltk_data]   Package wordnet is already up-to-date!\n",
      "[nltk_data] Downloading package stopwords to C:\\Users\\Prayag\n",
      "[nltk_data]     Chawla\\AppData\\Roaming\\nltk_data...\n",
      "[nltk_data]   Package stopwords is already up-to-date!\n",
      "[nltk_data] Downloading package punkt to C:\\Users\\Prayag\n",
      "[nltk_data]     Chawla\\AppData\\Roaming\\nltk_data...\n",
      "[nltk_data]   Package punkt is already up-to-date!\n"
     ]
    }
   ],
   "source": [
    "#DataFlair Project\n",
    "#import all the required libraries\n",
    "import numpy as np\n",
    "import pandas as pd\n",
    "import pickle\n",
    "from statistics import mode\n",
    "import nltk\n",
    "from nltk import word_tokenize\n",
    "from nltk.stem import LancasterStemmer\n",
    "nltk.download('wordnet')\n",
    "nltk.download('stopwords')\n",
    "nltk.download('punkt')\n",
    "from nltk.corpus import stopwords\n",
    "from tensorflow.keras.models import Model\n",
    "from tensorflow.keras import models\n",
    "from tensorflow.keras import backend as K\n",
    "from tensorflow.keras.preprocessing.sequence import pad_sequences\n",
    "from tensorflow.keras.preprocessing.text import Tokenizer \n",
    "from tensorflow.keras.utils import plot_model\n",
    "from tensorflow.keras.layers import Input,LSTM,Embedding,Dense,Concatenate,Attention\n",
    "from sklearn.model_selection import train_test_split\n",
    "from bs4 import BeautifulSoup"
   ]
  },
  {
   "cell_type": "code",
   "execution_count": 9,
   "metadata": {},
   "outputs": [],
   "source": [
    "df=pd.read_csv(\"wiki.csv\")\n",
    "#drop the duplicate and na values from the records\n",
    "df.drop_duplicates(subset=['Text'],inplace=True)\n",
    "df.dropna(axis=0,inplace=True)\n",
    "\n"
   ]
  },
  {
   "cell_type": "code",
   "execution_count": 10,
   "metadata": {},
   "outputs": [
    {
     "data": {
      "text/html": [
       "<div>\n",
       "<style scoped>\n",
       "    .dataframe tbody tr th:only-of-type {\n",
       "        vertical-align: middle;\n",
       "    }\n",
       "\n",
       "    .dataframe tbody tr th {\n",
       "        vertical-align: top;\n",
       "    }\n",
       "\n",
       "    .dataframe thead th {\n",
       "        text-align: right;\n",
       "    }\n",
       "</style>\n",
       "<table border=\"1\" class=\"dataframe\">\n",
       "  <thead>\n",
       "    <tr style=\"text-align: right;\">\n",
       "      <th></th>\n",
       "      <th>The speed of light in vacuum</th>\n",
       "      <th>denoted c</th>\n",
       "      <th>is a physical constant that is exactly equal to 299</th>\n",
       "      <th>792</th>\n",
       "      <th>458 metres per second (approximately 186</th>\n",
       "      <th>282 miles per second</th>\n",
       "      <th>or one foot per nanosecond). According to standard modern physics</th>\n",
       "      <th>visible light and all other electromagnetic radiation moves at this constant speed in vacuum</th>\n",
       "      <th>and c is the fastest speed at which matter</th>\n",
       "      <th>energy or any signal carrying information can travel through space. Ole Rømer first demonstrated in 1676 that light does not travel instantaneously by studying the apparent motion of Jupiter's moon Io (diagram shown). In an 1865 paper</th>\n",
       "      <th>James Clerk Maxwell proposed that light was an electromagnetic wave</th>\n",
       "      <th>and therefore travelled at the speed c. According to the theory of special relativity</th>\n",
       "      <th>which interrelates space and time</th>\n",
       "      <th>all observers will measure the speed of light as being the same</th>\n",
       "      <th>regardless of the inertial reference frame of the observer or the velocity of the object emitting the light.</th>\n",
       "    </tr>\n",
       "  </thead>\n",
       "  <tbody>\n",
       "  </tbody>\n",
       "</table>\n",
       "</div>"
      ],
      "text/plain": [
       "Empty DataFrame\n",
       "Columns: [The speed of light in vacuum,  denoted c,  is a physical constant that is exactly equal to 299, 792, 458 metres per second (approximately 186, 282 miles per second,  or one foot per nanosecond). According to standard modern physics,  visible light and all other electromagnetic radiation moves at this constant speed in vacuum,  and c is the fastest speed at which matter,  energy or any signal carrying information can travel through space. Ole Rømer first demonstrated in 1676 that light does not travel instantaneously by studying the apparent motion of Jupiter's moon Io (diagram shown). In an 1865 paper,  James Clerk Maxwell proposed that light was an electromagnetic wave,  and therefore travelled at the speed c. According to the theory of special relativity,  which interrelates space and time,  all observers will measure the speed of light as being the same,  regardless of the inertial reference frame of the observer or the velocity of the object emitting the light.]\n",
       "Index: []"
      ]
     },
     "execution_count": 10,
     "metadata": {},
     "output_type": "execute_result"
    }
   ],
   "source": [
    "df"
   ]
  },
  {
   "cell_type": "code",
   "execution_count": 11,
   "metadata": {},
   "outputs": [],
   "source": [
    "input_texts=[]\n",
    "target_texts=[]\n",
    "input_words=[]\n",
    "target_words=[]\n",
    "contractions=pickle.load(open(\"contractions.pkl\",\"rb\"))['contractions']\n",
    "#initialize stop words and LancasterStemmer\n",
    "stop_words=set(stopwords.words('english'))\n",
    "stemm=LancasterStemmer()"
   ]
  },
  {
   "cell_type": "code",
   "execution_count": 12,
   "metadata": {},
   "outputs": [],
   "source": [
    "def clean(texts,src):\n",
    "  #remove the html tags\n",
    "  texts = BeautifulSoup(texts, \"lxml\").text\n",
    "  #tokenize the text into words \n",
    "  words=word_tokenize(texts.lower())\n",
    "  #filter words which contains \\ \n",
    "  #integers or their length is less than or equal to 3\n",
    "  words= list(filter(lambda w:(w.isalpha() and len(w)>=3),words))\n"
   ]
  },
  {
   "cell_type": "code",
   "execution_count": 14,
   "metadata": {},
   "outputs": [],
   "source": [
    "for in_txt,tr_txt in zip(input_words,target_words):\n",
    "  in_words= clean(in_txt,\"inputs\")\n",
    "  input_texts+= [' '.join(in_words)]\n",
    "  input_words+= in_words\n",
    "  #add 'sos' at start and 'eos' at end of text\n",
    "  tr_words= clean(\"sos \"+tr_txt+\" eos\",\"target\")\n",
    "  target_texts+= [' '.join(tr_words)]\n",
    "  target_words+= tr_words"
   ]
  },
  {
   "cell_type": "code",
   "execution_count": 21,
   "metadata": {},
   "outputs": [
    {
     "ename": "NameError",
     "evalue": "name 'nums' is not defined",
     "output_type": "error",
     "traceback": [
      "\u001b[1;31m---------------------------------------------------------------------------\u001b[0m",
      "\u001b[1;31mNameError\u001b[0m                                 Traceback (most recent call last)",
      "\u001b[1;32md:\\Prayag Files\\Coding\\Python\\Projects\\text.ipynb Cell 7\u001b[0m in \u001b[0;36m<cell line: 3>\u001b[1;34m()\u001b[0m\n\u001b[0;32m      <a href='vscode-notebook-cell:/d%3A/Prayag%20Files/Coding/Python/Projects/text.ipynb#X10sZmlsZQ%3D%3D?line=0'>1</a>\u001b[0m \u001b[39mfrom\u001b[39;00m \u001b[39mstatistics\u001b[39;00m \u001b[39mimport\u001b[39;00m mode, StatisticsError\n\u001b[0;32m      <a href='vscode-notebook-cell:/d%3A/Prayag%20Files/Coding/Python/Projects/text.ipynb#X10sZmlsZQ%3D%3D?line=2'>3</a>\u001b[0m \u001b[39mtry\u001b[39;00m:\n\u001b[1;32m----> <a href='vscode-notebook-cell:/d%3A/Prayag%20Files/Coding/Python/Projects/text.ipynb#X10sZmlsZQ%3D%3D?line=3'>4</a>\u001b[0m     \u001b[39mprint\u001b[39m(\u001b[39m\"\u001b[39m\u001b[39mThe mode is \u001b[39m\u001b[39m\"\u001b[39m \u001b[39m+\u001b[39m mode(nums))\n\u001b[0;32m      <a href='vscode-notebook-cell:/d%3A/Prayag%20Files/Coding/Python/Projects/text.ipynb#X10sZmlsZQ%3D%3D?line=4'>5</a>\u001b[0m \u001b[39mexcept\u001b[39;00m StatisticsError:\n\u001b[0;32m      <a href='vscode-notebook-cell:/d%3A/Prayag%20Files/Coding/Python/Projects/text.ipynb#X10sZmlsZQ%3D%3D?line=5'>6</a>\u001b[0m     \u001b[39mprint\u001b[39m(\u001b[39m\"\u001b[39m\u001b[39mThere is no mode!\u001b[39m\u001b[39m\"\u001b[39m)\n",
      "\u001b[1;31mNameError\u001b[0m: name 'nums' is not defined"
     ]
    }
   ],
   "source": [
    "from statistics import mode, StatisticsError\n",
    "\n",
    "try:\n",
    "    print(\"The mode is \" + mode(nums))\n",
    "except StatisticsError:\n",
    "    print(\"There is no mode!\")\n",
    "\n",
    "\n",
    "\n"
   ]
  },
  {
   "cell_type": "code",
   "execution_count": 15,
   "metadata": {},
   "outputs": [
    {
     "ename": "StatisticsError",
     "evalue": "no mode for empty data",
     "output_type": "error",
     "traceback": [
      "\u001b[1;31m---------------------------------------------------------------------------\u001b[0m",
      "\u001b[1;31mStatisticsError\u001b[0m                           Traceback (most recent call last)",
      "\u001b[1;32md:\\Prayag Files\\Coding\\Python\\Projects\\text.ipynb Cell 7\u001b[0m in \u001b[0;36m<cell line: 7>\u001b[1;34m()\u001b[0m\n\u001b[0;32m      <a href='vscode-notebook-cell:/d%3A/Prayag%20Files/Coding/Python/Projects/text.ipynb#W6sZmlsZQ%3D%3D?line=3'>4</a>\u001b[0m num_tr_words \u001b[39m=\u001b[39m \u001b[39mlen\u001b[39m(target_words) \u001b[39m#total number of target words\u001b[39;00m\n\u001b[0;32m      <a href='vscode-notebook-cell:/d%3A/Prayag%20Files/Coding/Python/Projects/text.ipynb#W6sZmlsZQ%3D%3D?line=5'>6</a>\u001b[0m \u001b[39m#get the length of the input and target texts which appears most often  \u001b[39;00m\n\u001b[1;32m----> <a href='vscode-notebook-cell:/d%3A/Prayag%20Files/Coding/Python/Projects/text.ipynb#W6sZmlsZQ%3D%3D?line=6'>7</a>\u001b[0m max_in_len \u001b[39m=\u001b[39m mode([\u001b[39mlen\u001b[39;49m(i) \u001b[39mfor\u001b[39;49;00m i \u001b[39min\u001b[39;49;00m input_texts])\n\u001b[0;32m      <a href='vscode-notebook-cell:/d%3A/Prayag%20Files/Coding/Python/Projects/text.ipynb#W6sZmlsZQ%3D%3D?line=7'>8</a>\u001b[0m max_tr_len \u001b[39m=\u001b[39m mode([\u001b[39mlen\u001b[39m(i) \u001b[39mfor\u001b[39;00m i \u001b[39min\u001b[39;00m target_texts])\n\u001b[0;32m     <a href='vscode-notebook-cell:/d%3A/Prayag%20Files/Coding/Python/Projects/text.ipynb#W6sZmlsZQ%3D%3D?line=9'>10</a>\u001b[0m \u001b[39mprint\u001b[39m(\u001b[39m\"\u001b[39m\u001b[39mnumber of input words : \u001b[39m\u001b[39m\"\u001b[39m,num_in_words)\n",
      "File \u001b[1;32mc:\\Users\\Prayag Chawla\\AppData\\Local\\Programs\\Python\\Python310\\lib\\statistics.py:583\u001b[0m, in \u001b[0;36mmode\u001b[1;34m(data)\u001b[0m\n\u001b[0;32m    581\u001b[0m     \u001b[39mreturn\u001b[39;00m pairs[\u001b[39m0\u001b[39m][\u001b[39m0\u001b[39m]\n\u001b[0;32m    582\u001b[0m \u001b[39mexcept\u001b[39;00m \u001b[39mIndexError\u001b[39;00m:\n\u001b[1;32m--> 583\u001b[0m     \u001b[39mraise\u001b[39;00m StatisticsError(\u001b[39m'\u001b[39m\u001b[39mno mode for empty data\u001b[39m\u001b[39m'\u001b[39m) \u001b[39mfrom\u001b[39;00m \u001b[39mNone\u001b[39m\n",
      "\u001b[1;31mStatisticsError\u001b[0m: no mode for empty data"
     ]
    }
   ],
   "source": [
    "nput_words = sorted(list(set(input_words)))\n",
    "target_words = sorted(list(set(target_words)))\n",
    "num_in_words = len(input_words) #total number of input words\n",
    "num_tr_words = len(target_words) #total number of target words\n",
    " \n",
    "#get the length of the input and target texts which appears most often  \n",
    "max_in_len = mode([len(i) for i in input_texts])\n",
    "max_tr_len = mode([len(i) for i in target_texts])\n",
    " \n",
    "print(\"number of input words : \",num_in_words)\n",
    "print(\"number of target words : \",num_tr_words)\n",
    "print(\"maximum input length : \",max_in_len)\n",
    "print(\"maximum target length : \",max_tr_len)"
   ]
  }
 ],
 "metadata": {
  "kernelspec": {
   "display_name": "Python 3.10.6 64-bit",
   "language": "python",
   "name": "python3"
  },
  "language_info": {
   "codemirror_mode": {
    "name": "ipython",
    "version": 3
   },
   "file_extension": ".py",
   "mimetype": "text/x-python",
   "name": "python",
   "nbconvert_exporter": "python",
   "pygments_lexer": "ipython3",
   "version": "3.10.6"
  },
  "orig_nbformat": 4,
  "vscode": {
   "interpreter": {
    "hash": "ee74448ac26aec9e1f090088405c420048a8c66a68ad221e398cf15c498b3fff"
   }
  }
 },
 "nbformat": 4,
 "nbformat_minor": 2
}
